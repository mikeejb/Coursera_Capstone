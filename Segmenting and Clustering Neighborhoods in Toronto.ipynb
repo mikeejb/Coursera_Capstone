{
    "cells": [
        {
            "metadata": {},
            "cell_type": "markdown",
            "source": "<h1 align=\"center\">Segmenting and Clustering Neighborhoods in Toronto</h1>"
        },
        {
            "metadata": {},
            "cell_type": "markdown",
            "source": "## Part 1 - To scrape the Toronto postal data from Wiki"
        },
        {
            "metadata": {},
            "cell_type": "markdown",
            "source": "### 1. Scrape the Wikipedia page"
        },
        {
            "metadata": {},
            "cell_type": "code",
            "source": "import requests\nimport numpy as np\nimport pandas as pd\n%matplotlib inline\nimport matplotlib.pyplot as plot\nfrom bs4 import BeautifulSoup\n\nurl = 'https://en.wikipedia.org/wiki/List_of_postal_codes_of_Canada:_M'\nhtml_data = requests.get(url).text\nhtml_tree = BeautifulSoup(html_data, 'html5lib')",
            "execution_count": 1,
            "outputs": []
        },
        {
            "metadata": {},
            "cell_type": "markdown",
            "source": "### 2. Parse the table data and create a DataFrame with PostalCode, Borough and Neighborhood columns"
        },
        {
            "metadata": {},
            "cell_type": "code",
            "source": "trs = html_tree.find('tbody').find_all('tr')\n# The dataframe will consist of three columns: PostalCode, Borough, and Neighborhood\ncolumn = ['PostalCode', 'Borough', 'Neighborhood']\ntoronto_df = pd.DataFrame(columns=column)\n# extract raw data from html table to dataframe.\nfor tr in trs:\n    tds = tr.find_all('td')\n    if(tds != []):\n        toronto_df = toronto_df.append({'PostalCode':tds[0].text.strip(), 'Borough':tds[1].text.strip(), 'Neighborhood':tds[2].text.strip()}, ignore_index=True)\n# Only process the cells that have an assigned borough. Ignore cells with a borough that is Not assigned.\n# remove Borough value = 'Not assigned'\nindex_na = toronto_df[(toronto_df['Borough']=='Not assigned')].index\ntoronto_df.drop(index=index_na, inplace=True)\ntoronto_df.reset_index(inplace=True)\ntoronto_df.drop(columns='index', axis=1, inplace=True)\n# If a cell has a borough but a Not assigned neighborhood, then the neighborhood will be the same as the borough.\nif(toronto_df[(toronto_df['Neighborhood']=='Not assigned')].shape[0]!=0):\n    print('Found Neighborhood is not assigned; use Borough value')\n    toronto_df.loc[toronto_df['Neighborhood']=='Not assigned', 'Neighborhood']=toronto_df.loc[toronto_df['Neighborhood']=='Not assigned', 'Borough'] \n# In the last cell of your notebook, use the .shape method to print the number of rows of your dataframe.\nprint(toronto_df.shape)\nprint('The dataframe has {} rows with {} columns'.format(toronto_df.shape[0], toronto_df.shape[1]))\n    ",
            "execution_count": 2,
            "outputs": [
                {
                    "output_type": "stream",
                    "text": "(103, 3)\nThe dataframe has 103 rows with 3 columns\n",
                    "name": "stdout"
                }
            ]
        },
        {
            "metadata": {},
            "cell_type": "code",
            "source": "",
            "execution_count": null,
            "outputs": []
        }
    ],
    "metadata": {
        "kernelspec": {
            "name": "python3",
            "display_name": "Python 3.7",
            "language": "python"
        },
        "language_info": {
            "name": "python",
            "version": "3.7.10",
            "mimetype": "text/x-python",
            "codemirror_mode": {
                "name": "ipython",
                "version": 3
            },
            "pygments_lexer": "ipython3",
            "nbconvert_exporter": "python",
            "file_extension": ".py"
        }
    },
    "nbformat": 4,
    "nbformat_minor": 1
}