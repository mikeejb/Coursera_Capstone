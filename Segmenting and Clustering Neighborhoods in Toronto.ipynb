{
    "cells": [
        {
            "metadata": {},
            "cell_type": "markdown",
            "source": "<h1 align=\"center\">Segmenting and Clustering Neighborhoods in Toronto</h1>"
        },
        {
            "metadata": {},
            "cell_type": "markdown",
            "source": "## Part 1 - To scrape the Toronto postal data from Wiki"
        },
        {
            "metadata": {},
            "cell_type": "markdown",
            "source": "### 1. Scrape the Wikipedia page"
        },
        {
            "metadata": {},
            "cell_type": "code",
            "source": "import requests\nimport numpy as np\nimport pandas as pd\n%matplotlib inline\nimport matplotlib.pyplot as plot\nfrom bs4 import BeautifulSoup\n\nurl = 'https://en.wikipedia.org/wiki/List_of_postal_codes_of_Canada:_M'\nhtml_data = requests.get(url).text\nhtml_tree = BeautifulSoup(html_data, 'html5lib')",
            "execution_count": 2,
            "outputs": []
        },
        {
            "metadata": {},
            "cell_type": "markdown",
            "source": "### 2. Parse the table data and create a DataFrame with PostalCode, Borough and Neighborhood columns"
        },
        {
            "metadata": {},
            "cell_type": "code",
            "source": "trs = html_tree.find('tbody').find_all('tr')\n# The dataframe will consist of three columns: PostalCode, Borough, and Neighborhood\ncolumn = ['PostalCode', 'Borough', 'Neighborhood']\ntoronto_df = pd.DataFrame(columns=column)\n# extract raw data from html table to dataframe.\nfor tr in trs:\n    tds = tr.find_all('td')\n    if(tds != []):\n        toronto_df = toronto_df.append({'PostalCode':tds[0].text.strip(), 'Borough':tds[1].text.strip(), 'Neighborhood':tds[2].text.strip()}, ignore_index=True)\n# Only process the cells that have an assigned borough. Ignore cells with a borough that is Not assigned.\n# remove Borough value = 'Not assigned'\nindex_na = toronto_df[(toronto_df['Borough']=='Not assigned')].index\ntoronto_df.drop(index=index_na, inplace=True)\ntoronto_df.reset_index(inplace=True)\ntoronto_df.drop(columns='index', axis=1, inplace=True)\n# If a cell has a borough but a Not assigned neighborhood, then the neighborhood will be the same as the borough.\nif(toronto_df[(toronto_df['Neighborhood']=='Not assigned')].shape[0]!=0):\n    print('Found Neighborhood is not assigned; use Borough value')\n    toronto_df.loc[toronto_df['Neighborhood']=='Not assigned', 'Neighborhood']=toronto_df.loc[toronto_df['Neighborhood']=='Not assigned', 'Borough'] \n# In the last cell of your notebook, use the .shape method to print the number of rows of your dataframe.\nprint(toronto_df.shape)\nprint('The dataframe has {} rows with {} columns'.format(toronto_df.shape[0], toronto_df.shape[1]))\n    ",
            "execution_count": 3,
            "outputs": [
                {
                    "output_type": "stream",
                    "text": "(103, 3)\nThe dataframe has 103 rows with 3 columns\n",
                    "name": "stdout"
                }
            ]
        },
        {
            "metadata": {},
            "cell_type": "markdown",
            "source": "## Part 2 - To retrieve latitude and longitude coordinates of each neighborhood. \n##### Using csv as geospatial input since geocoder is not working at all."
        },
        {
            "metadata": {},
            "cell_type": "code",
            "source": "# Using csv as geospatial input since geocoder is not working at all.\nimport requests\nfrom io import StringIO\npath = 'http://cocl.us/Geospatial_data/Geospatial_Coordinates.csv'\ns = requests.get(path).content\ngeospatial_df = pd.read_csv(StringIO(s.decode(\"utf-8\")))\ngeospatial_df.columns = ['PostalCode', 'Latitude', 'Longitude']\nfor i in toronto_df['PostalCode'].values:\n    latitude = geospatial_df.loc[geospatial_df['PostalCode']==i]['Latitude']\n    longitude = geospatial_df.loc[geospatial_df['PostalCode']==i]['Longitude']\n    toronto_df.loc[toronto_df['PostalCode']==i, 'Latitude'] = latitude.values[0]\n    toronto_df.loc[toronto_df['PostalCode']==i, 'Longitude'] = longitude.values[0]\ntoronto_df",
            "execution_count": 15,
            "outputs": [
                {
                    "output_type": "execute_result",
                    "execution_count": 15,
                    "data": {
                        "text/plain": "    PostalCode           Borough  \\\n0          M3A        North York   \n1          M4A        North York   \n2          M5A  Downtown Toronto   \n3          M6A        North York   \n4          M7A  Downtown Toronto   \n..         ...               ...   \n98         M8X         Etobicoke   \n99         M4Y  Downtown Toronto   \n100        M7Y      East Toronto   \n101        M8Y         Etobicoke   \n102        M8Z         Etobicoke   \n\n                                          Neighborhood   Latitude  Longitude  \n0                                            Parkwoods  43.753259 -79.329656  \n1                                     Victoria Village  43.725882 -79.315572  \n2                            Regent Park, Harbourfront  43.654260 -79.360636  \n3                     Lawrence Manor, Lawrence Heights  43.718518 -79.464763  \n4          Queen's Park, Ontario Provincial Government  43.662301 -79.389494  \n..                                                 ...        ...        ...  \n98       The Kingsway, Montgomery Road, Old Mill North  43.653654 -79.506944  \n99                                Church and Wellesley  43.665860 -79.383160  \n100  Business reply mail Processing Centre, South C...  43.662744 -79.321558  \n101  Old Mill South, King's Mill Park, Sunnylea, Hu...  43.636258 -79.498509  \n102  Mimico NW, The Queensway West, South of Bloor,...  43.628841 -79.520999  \n\n[103 rows x 5 columns]",
                        "text/html": "<div>\n<style scoped>\n    .dataframe tbody tr th:only-of-type {\n        vertical-align: middle;\n    }\n\n    .dataframe tbody tr th {\n        vertical-align: top;\n    }\n\n    .dataframe thead th {\n        text-align: right;\n    }\n</style>\n<table border=\"1\" class=\"dataframe\">\n  <thead>\n    <tr style=\"text-align: right;\">\n      <th></th>\n      <th>PostalCode</th>\n      <th>Borough</th>\n      <th>Neighborhood</th>\n      <th>Latitude</th>\n      <th>Longitude</th>\n    </tr>\n  </thead>\n  <tbody>\n    <tr>\n      <th>0</th>\n      <td>M3A</td>\n      <td>North York</td>\n      <td>Parkwoods</td>\n      <td>43.753259</td>\n      <td>-79.329656</td>\n    </tr>\n    <tr>\n      <th>1</th>\n      <td>M4A</td>\n      <td>North York</td>\n      <td>Victoria Village</td>\n      <td>43.725882</td>\n      <td>-79.315572</td>\n    </tr>\n    <tr>\n      <th>2</th>\n      <td>M5A</td>\n      <td>Downtown Toronto</td>\n      <td>Regent Park, Harbourfront</td>\n      <td>43.654260</td>\n      <td>-79.360636</td>\n    </tr>\n    <tr>\n      <th>3</th>\n      <td>M6A</td>\n      <td>North York</td>\n      <td>Lawrence Manor, Lawrence Heights</td>\n      <td>43.718518</td>\n      <td>-79.464763</td>\n    </tr>\n    <tr>\n      <th>4</th>\n      <td>M7A</td>\n      <td>Downtown Toronto</td>\n      <td>Queen's Park, Ontario Provincial Government</td>\n      <td>43.662301</td>\n      <td>-79.389494</td>\n    </tr>\n    <tr>\n      <th>...</th>\n      <td>...</td>\n      <td>...</td>\n      <td>...</td>\n      <td>...</td>\n      <td>...</td>\n    </tr>\n    <tr>\n      <th>98</th>\n      <td>M8X</td>\n      <td>Etobicoke</td>\n      <td>The Kingsway, Montgomery Road, Old Mill North</td>\n      <td>43.653654</td>\n      <td>-79.506944</td>\n    </tr>\n    <tr>\n      <th>99</th>\n      <td>M4Y</td>\n      <td>Downtown Toronto</td>\n      <td>Church and Wellesley</td>\n      <td>43.665860</td>\n      <td>-79.383160</td>\n    </tr>\n    <tr>\n      <th>100</th>\n      <td>M7Y</td>\n      <td>East Toronto</td>\n      <td>Business reply mail Processing Centre, South C...</td>\n      <td>43.662744</td>\n      <td>-79.321558</td>\n    </tr>\n    <tr>\n      <th>101</th>\n      <td>M8Y</td>\n      <td>Etobicoke</td>\n      <td>Old Mill South, King's Mill Park, Sunnylea, Hu...</td>\n      <td>43.636258</td>\n      <td>-79.498509</td>\n    </tr>\n    <tr>\n      <th>102</th>\n      <td>M8Z</td>\n      <td>Etobicoke</td>\n      <td>Mimico NW, The Queensway West, South of Bloor,...</td>\n      <td>43.628841</td>\n      <td>-79.520999</td>\n    </tr>\n  </tbody>\n</table>\n<p>103 rows \u00d7 5 columns</p>\n</div>"
                    },
                    "metadata": {}
                }
            ]
        },
        {
            "metadata": {},
            "cell_type": "code",
            "source": "",
            "execution_count": null,
            "outputs": []
        }
    ],
    "metadata": {
        "kernelspec": {
            "name": "python3",
            "display_name": "Python 3.7",
            "language": "python"
        },
        "language_info": {
            "name": "python",
            "version": "3.7.10",
            "mimetype": "text/x-python",
            "codemirror_mode": {
                "name": "ipython",
                "version": 3
            },
            "pygments_lexer": "ipython3",
            "nbconvert_exporter": "python",
            "file_extension": ".py"
        }
    },
    "nbformat": 4,
    "nbformat_minor": 1
}